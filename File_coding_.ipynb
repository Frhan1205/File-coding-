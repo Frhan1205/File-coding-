{
  "cells": [
    {
      "cell_type": "markdown",
      "metadata": {
        "id": "BlRaarbm5CP3"
      },
      "source": [
        "<h2>Pengertian</h2>\n",
        "<ol>\n",
        "    <li>Fungsi pada python adalah kumpulan perintah atau baris kode yang dikelompokkan menjadi satu kesatuan untuk kemudian bisa dipanggil atau digunakan berkali-kali.</li>\n",
        "    <li>Sebuah fungsi dapat menerima parameter, dapat mengembalikan suatu nilai, dan dapat dipanggil berkali-kali secara independen.</li>\n",
        "</ol>\n",
        "<hr>\n",
        "<h2>Keuntungan</h2>\n",
        "<ol>\n",
        "    <li>Membagi kode program menjadi bagian-bagian kecil dengan tugasnya masing-masing.</li>\n",
        "    <li>Membuat kode program menjadi lebih “reusable” dan lebih terstruktur.</li>\n",
        "</ol>\n",
        "<hr>\n",
        "<h2>Sintaks</h2>\n",
        "\n",
        "```python\n",
        "def function_name():\n",
        "    Logic Program\n",
        "```\n",
        "Cara memanggil fungsi dengan menuliskan function_name diikuti kurung buka tutup () beserta parameter jika ada\n",
        "\n",
        "```python\n",
        "    function_name()\n",
        "```\n",
        "<hr>\n",
        "Buatlah fungsi dengan nama \"helloPython\" yang berfungsi untuk mencetak \"Welcome in Python Language\""
      ]
    },
    {
      "cell_type": "code",
      "execution_count": 1,
      "metadata": {
        "colab": {
          "base_uri": "https://localhost:8080/"
        },
        "id": "Gxqw7kmU5CP7",
        "outputId": "d5f33fb3-6b6e-4244-8f83-0597d7b0c27f"
      },
      "outputs": [
        {
          "output_type": "stream",
          "name": "stdout",
          "text": [
            "Welcome in Python Language\n"
          ]
        }
      ],
      "source": [
        "def helloPython():\n",
        "  \"\"\"\n",
        "  Fungsi untuk mencetak pesan \"Welcome in Python Language\"\n",
        "\n",
        "  Returns:\n",
        "      None\n",
        "  \"\"\"\n",
        "  print(\"Welcome in Python Language\")\n",
        "\n",
        "# Memanggil fungsi\n",
        "helloPython()"
      ]
    },
    {
      "cell_type": "markdown",
      "metadata": {
        "id": "qXP-tTDI5CP-"
      },
      "source": [
        "<h1>Fungsi dengan parameter</h1>\n",
        "Sebuah fungsi dapat menerima parameter ataupun argumen yang merupakan suatu nilai/variabel yang dilemparkan ke dalam fungsi untuk diproses lebih lanjut.\n",
        "\n",
        "<h2>Sintaks</h2>\n",
        "\n",
        "```python\n",
        "def function_name(param):\n",
        "    Logic Program\n",
        "```\n",
        "Cara memanggil fungsi dengan menuliskan function_name diikuti kurung buka tutup () beserta parameter\n",
        "\n",
        "```python\n",
        "    function_name(param)\n",
        "```\n",
        "<hr>"
      ]
    },
    {
      "cell_type": "markdown",
      "metadata": {
        "id": "aEYuSdca5CP_"
      },
      "source": [
        "Buatlah fungsi dengan nama \"fullName\" yang mempunyai parameter \"firstname\" dan \"lastname\" digunakan untuk mencetak \"firstname\" dan \"lastname\""
      ]
    },
    {
      "cell_type": "code",
      "execution_count": 3,
      "metadata": {
        "colab": {
          "base_uri": "https://localhost:8080/"
        },
        "id": "XI9Cmbem5CP_",
        "outputId": "8f4f3d5f-c0fd-47ad-9a09-f1589cdffc44"
      },
      "outputs": [
        {
          "output_type": "stream",
          "name": "stdout",
          "text": [
            "Dadang Gumilang\n"
          ]
        }
      ],
      "source": [
        "def fullName(firstname, lastname):\n",
        "  \"\"\"\n",
        "  Prints the full name constructed from the provided first and last name.\n",
        "\n",
        "  Args:\n",
        "      firstname: The person's first name (string).\n",
        "      lastname: The person's last name (string).\n",
        "  \"\"\"\n",
        "  print(f\"{firstname} {lastname}\")\n",
        "\n",
        "# Example usage\n",
        "fullName(\"Dadang\", \"Gumilang\")  # Output: Dadang Gumilang"
      ]
    },
    {
      "cell_type": "markdown",
      "metadata": {
        "id": "TJxHSMxL5CQA"
      },
      "source": [
        "Parameter fungsi diperbolehkan menggunakan lebih dari 1, dimana paramater tersebut ada yang wajib harus diisi dan ada yang tidak harus diisi\n",
        "\n",
        "```python\n",
        "def function_name(param_1, param_2, param_3,....):\n",
        "    Logic Program\n",
        "```\n",
        "\n",
        "Cara memanggil fungsi dengan menuliskan function_name diikuti kurung buka tutup () beserta parameter\n",
        "\n",
        "```python\n",
        "    function_name(param_1, param_2, param_3)\n",
        "```\n",
        "<hr>\n",
        "Buatlah fungsi dengan nama maxValue yang mempunyai parameter \"val_1\",\"val_2\" dan \"val_3\" yang bertujuan untuk mencari nilai terbesar dari 3 nilai tersebut"
      ]
    },
    {
      "cell_type": "code",
      "execution_count": 13,
      "metadata": {
        "colab": {
          "base_uri": "https://localhost:8080/"
        },
        "id": "mkKzzqN05CQA",
        "outputId": "a7e8d86c-1da8-400a-cc39-a4d4c348ef75"
      },
      "outputs": [
        {
          "output_type": "stream",
          "name": "stdout",
          "text": [
            "40\n"
          ]
        }
      ],
      "source": [
        "def maxValue(val_1, val_2, val_3=None):\n",
        "  \"\"\"\n",
        "  Mencari nilai maksimum dari 3 nilai yang diberikan.\n",
        "\n",
        "  Args:\n",
        "      val_1: Nilai pertama (wajib).\n",
        "      val_2: Nilai kedua (wajib).\n",
        "      val_3: Nilai ketiga (opsional, default None). Jika tidak disediakan,\n",
        "             fungsi hanya akan membandingkan val_1 dan val_2.\n",
        "\n",
        "  Returns:\n",
        "      Nilai maksimum dari 3 nilai.\n",
        "  \"\"\"\n",
        "  if val_3 is None:\n",
        "    # Hanya bandingkan val_1 dan val_2\n",
        "    result = max(val_1, val_2)\n",
        "  else:\n",
        "    # Bandingkan val_1, val_2, dan val_3\n",
        "    result = max(val_1, val_2, val_3)\n",
        "  return result\n",
        "\n",
        "# Contoh penggunaan\n",
        "max_value = maxValue(10, 20 , 40)  # Output: 20\n",
        "\n",
        "print(max_value)"
      ]
    },
    {
      "cell_type": "markdown",
      "metadata": {
        "id": "1txFG5st5CQB"
      },
      "source": [
        "Parameter opsional digunakan pada fungsi dengan cara memberikan nilai default, artinya nilai parameter sudah diberikan terlebih dahulu tanpa dipanggil\n",
        "\n",
        "```python\n",
        "def function_name(param_1, param_2, param_3 = 'Nilai'):\n",
        "    Logic Program\n",
        "```"
      ]
    },
    {
      "cell_type": "markdown",
      "metadata": {
        "id": "DaUq280h5CQC"
      },
      "source": [
        "Buatlah fungsi \"countCircleArea\" dengan 2 parameter yaitu \"phi\" dan \"diameter\" dimana parameter phi mempunyai nilai default 3.14"
      ]
    },
    {
      "cell_type": "code",
      "execution_count": 15,
      "metadata": {
        "colab": {
          "base_uri": "https://localhost:8080/"
        },
        "id": "PvLjyCNk5CQC",
        "outputId": "3d39414b-bd70-4c6c-f282-a193a3539088"
      },
      "outputs": [
        {
          "output_type": "stream",
          "name": "stdout",
          "text": [
            "177.1875\n"
          ]
        }
      ],
      "source": [
        "def countCircleArea(diameter, phi=3.14):\n",
        "  \"\"\"\n",
        "  Menghitung luas lingkaran.\n",
        "\n",
        "  Args:\n",
        "      diameter: Diameter lingkaran (wajib).\n",
        "      phi (default 3.14): Nilai phi (π).\n",
        "\n",
        "  Returns:\n",
        "      Luas lingkaran.\n",
        "  \"\"\"\n",
        "  radius = diameter / 2\n",
        "  area = phi * radius * radius\n",
        "  return area\n",
        "\n",
        "# Contoh penggunaan\n",
        "luas_lingkaran1 = countCircleArea(10)  # Output: 78.53979999999999\n",
        "luas_lingkaran2 = countCircleArea(15, 3.15)  # Output: 176.69399999999998\n",
        "print(luas_lingkaran2)"
      ]
    },
    {
      "cell_type": "markdown",
      "metadata": {
        "id": "CIgoYCZ95CQD"
      },
      "source": [
        "Fungsi dengan 2 Parameter opsional juga dapat dilakukan pada Python.\n",
        "\n",
        "```python\n",
        "def info(suhu, daerah='Sukabumi', satuan = 'Celcius'):\n",
        "    print(f\"Suhu sekarang di {daerah} : {suhu} {satuan} \")\n",
        "```\n",
        "Adapun Cara memanggilnya\n",
        "\n",
        "```python\n",
        "    info(30)\n",
        "```"
      ]
    },
    {
      "cell_type": "code",
      "execution_count": 20,
      "metadata": {
        "colab": {
          "base_uri": "https://localhost:8080/"
        },
        "id": "s-YXy-E-5CQF",
        "outputId": "8aae1a79-26a5-405c-b012-e256e917d20c"
      },
      "outputs": [
        {
          "output_type": "stream",
          "name": "stdout",
          "text": [
            "Suhu sekarang di Sukabumi : 30 Celcius\n",
            "Suhu sekarang di Bandung : 25 Celcius\n",
            "Suhu sekarang di Sukabumi : 37.5 Fahrenheit\n"
          ]
        }
      ],
      "source": [
        "#Cobalah fungsi tersebut pada area kode disini\n",
        "def info(suhu, daerah='Sukabumi', satuan='Celcius'):\n",
        "  \"\"\"\n",
        "  Menampilkan informasi suhu beserta daerah dan satuannya.\n",
        "\n",
        "  Args:\n",
        "      suhu: Nilai suhu (wajib).\n",
        "      daerah: Nama daerah (opsional, default 'Sukabumi').\n",
        "      satuan: Satuan suhu (opsional, default 'Celcius').\n",
        "\n",
        "  Returns:\n",
        "      None\n",
        "  \"\"\"\n",
        "  print(f\"Suhu sekarang di {daerah} : {suhu} {satuan}\")\n",
        "\n",
        "# Contoh penggunaan\n",
        "info(30)                        # Output: Suhu sekarang di Sukabumi : 30 Celcius\n",
        "info(25, 'Bandung')            # Output: Suhu sekarang di Bandung : 25 Celcius\n",
        "info(37.5, satuan='Fahrenheit') # Output: Suhu sekarang di Sukabumi : 37.5 Fahrenheit"
      ]
    },
    {
      "cell_type": "markdown",
      "metadata": {
        "id": "SeaLjnsh5CQF"
      },
      "source": [
        "<h1>Fungsi dengan Return Value</h1>\n",
        "\n",
        "Yaitu fungsi dimana akhir dari programnya adalah nilai kembalian atau nilai balik. Artinya nilai dalam fungsi dapat ditampung lagi ke variabel lain untuk digunakan operasi lebih lanjut.\n",
        "\n",
        "Buatlah fungsi dengan return value yang digunakan untuk mengecek sebuah bilangan termasuk bilangan negatif, bilangan neteral(0) dan bilangan positif"
      ]
    },
    {
      "cell_type": "code",
      "execution_count": 21,
      "metadata": {
        "colab": {
          "base_uri": "https://localhost:8080/"
        },
        "id": "wrH_-Nko5CQI",
        "outputId": "887bb851-91fb-44ef-e482-eaa02e0dcf50"
      },
      "outputs": [
        {
          "output_type": "stream",
          "name": "stdout",
          "text": [
            "Bilangan 10 termasuk: Positif\n"
          ]
        }
      ],
      "source": [
        "\n",
        "def checkNumberType(number):\n",
        "  \"\"\"\n",
        "  Mengecek jenis bilangan (negatif, netral, atau positif).\n",
        "\n",
        "  Args:\n",
        "      number: Bilangan yang akan dicek (wajib).\n",
        "\n",
        "  Returns:\n",
        "      String yang menunjukkan jenis bilangan:\n",
        "          - \"Negatif\" jika bilangannya negatif\n",
        "          - \"Netral\" jika bilangannya 0\n",
        "          - \"Positif\" jika bilangannya positif\n",
        "  \"\"\"\n",
        "  if number < 0:\n",
        "    return \"Negatif\"\n",
        "  elif number == 0:\n",
        "    return \"Netral\"\n",
        "  else:\n",
        "    return \"Positif\"\n",
        "\n",
        "# Contoh penggunaan\n",
        "bilangan = 10\n",
        "jenis_bilangan = checkNumberType(bilangan)\n",
        "print(f\"Bilangan {bilangan} termasuk: {jenis_bilangan}\")"
      ]
    },
    {
      "cell_type": "markdown",
      "metadata": {
        "id": "WBXwv2rN5CQI"
      },
      "source": [
        "<h3>Soal Latihan</h3>\n",
        "<ol>\n",
        "    <li>Buatlah fungsi untuk menjumlahkan total nilai dari list</li>\n",
        "    <li>Buatlah fungsi untuk mencari nilai terbesar dari sekumpulan list </li>\n",
        "    <li>Buatlah fungsi untuk menjumlahkan 2 buah list </li>\n",
        "</ol>\n"
      ]
    },
    {
      "cell_type": "code",
      "execution_count": 22,
      "metadata": {
        "colab": {
          "base_uri": "https://localhost:8080/"
        },
        "id": "agJdSDMf5CQJ",
        "outputId": "cf0afe3a-c663-4f2a-b6c1-178ff5848969"
      },
      "outputs": [
        {
          "output_type": "stream",
          "name": "stdout",
          "text": [
            "Total nilai dari list: 25\n"
          ]
        }
      ],
      "source": [
        "#Soal 1\n",
        "def sum_list(numbers):\n",
        "  \"\"\"\n",
        "  Menghitung total nilai dari elemen-elemen dalam list.\n",
        "\n",
        "  Args:\n",
        "      numbers: List yang berisi nilai-nilai (bisa berupa angka, string, dll.).\n",
        "\n",
        "  Returns:\n",
        "      Total nilai dari elemen-elemen dalam list.\n",
        "  \"\"\"\n",
        "  total = 0\n",
        "  for number in numbers:\n",
        "    total += number\n",
        "  return total\n",
        "\n",
        "# Contoh penggunaan\n",
        "numbers = [10, 5, 2, 7, 1]\n",
        "total_sum = sum_list(numbers)\n",
        "print(f\"Total nilai dari list: {total_sum}\")"
      ]
    },
    {
      "cell_type": "code",
      "execution_count": 23,
      "metadata": {
        "colab": {
          "base_uri": "https://localhost:8080/"
        },
        "id": "1wuE4UbB5CQJ",
        "outputId": "95bd1ab8-7f14-44e9-c733-e2bb3b5ccd20"
      },
      "outputs": [
        {
          "output_type": "stream",
          "name": "stdout",
          "text": [
            "Total nilai dari list: 25\n"
          ]
        }
      ],
      "source": [
        "#Soal 2\n",
        "def sum_list(numbers):\n",
        "  \"\"\"\n",
        "  Menghitung total nilai dari elemen-elemen dalam list.\n",
        "\n",
        "  Args:\n",
        "      numbers: List yang berisi nilai-nilai (bisa berupa angka, string, dll.).\n",
        "\n",
        "  Returns:\n",
        "      Total nilai dari elemen-elemen dalam list.\n",
        "  \"\"\"\n",
        "  total = 0\n",
        "  for number in numbers:\n",
        "    total += number\n",
        "  return total\n",
        "\n",
        "# Contoh penggunaan\n",
        "numbers = [10, 5, 2, 7, 1]\n",
        "total_sum = sum_list(numbers)\n",
        "print(f\"Total nilai dari list: {total_sum}\")"
      ]
    },
    {
      "cell_type": "code",
      "execution_count": 24,
      "metadata": {
        "colab": {
          "base_uri": "https://localhost:8080/"
        },
        "id": "BboxgSxZ5CQK",
        "outputId": "8b85213a-b195-4a4d-adda-f0f23498a376"
      },
      "outputs": [
        {
          "output_type": "stream",
          "name": "stdout",
          "text": [
            "Hasil penjumlahan list: [17, 6, 6]\n"
          ]
        }
      ],
      "source": [
        "#Soal 3\n",
        "def sum_lists(list1, list2):\n",
        "  \"\"\"\n",
        "  Menjumlahkan elemen-elemen dari 2 list dengan indeks yang sama dan mengembalikan hasilnya dalam list baru.\n",
        "\n",
        "  Args:\n",
        "      list1: List pertama yang berisi nilai-nilai.\n",
        "      list2: List kedua yang berisi nilai-nilai.\n",
        "\n",
        "  Returns:\n",
        "      List baru yang berisi hasil penjumlahan elemen-elemen dari list1 dan list2 dengan indeks yang sama.\n",
        "  \"\"\"\n",
        "  if len(list1) != len(list2):\n",
        "    raise ValueError(\"List harus memiliki panjang yang sama\")  # Menangani panjang list yang berbeda\n",
        "  result_list = []\n",
        "  for i in range(len(list1)):\n",
        "    result_list.append(list1[i] + list2[i])\n",
        "  return result_list\n",
        "\n",
        "# Contoh penggunaan\n",
        "list1 = [10, 5, 2]\n",
        "list2 = [7, 1, 4]\n",
        "summed_list = sum_lists(list1, list2)\n",
        "print(f\"Hasil penjumlahan list: {summed_list}\")"
      ]
    }
  ],
  "metadata": {
    "kernelspec": {
      "display_name": "Python 3",
      "language": "python",
      "name": "python3"
    },
    "language_info": {
      "codemirror_mode": {
        "name": "ipython",
        "version": 3
      },
      "file_extension": ".py",
      "mimetype": "text/x-python",
      "name": "python",
      "nbconvert_exporter": "python",
      "pygments_lexer": "ipython3",
      "version": "3.8.5"
    },
    "colab": {
      "provenance": []
    }
  },
  "nbformat": 4,
  "nbformat_minor": 0
}